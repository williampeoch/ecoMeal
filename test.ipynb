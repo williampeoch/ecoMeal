{
 "cells": [
  {
   "cell_type": "code",
   "execution_count": 60,
   "metadata": {},
   "outputs": [],
   "source": [
    "import pandas as pd\n",
    "from Person import *"
   ]
  },
  {
   "cell_type": "code",
   "execution_count": 61,
   "metadata": {},
   "outputs": [
    {
     "data": {
      "text/html": [
       "<div>\n",
       "<style scoped>\n",
       "    .dataframe tbody tr th:only-of-type {\n",
       "        vertical-align: middle;\n",
       "    }\n",
       "\n",
       "    .dataframe tbody tr th {\n",
       "        vertical-align: top;\n",
       "    }\n",
       "\n",
       "    .dataframe thead th {\n",
       "        text-align: right;\n",
       "    }\n",
       "</style>\n",
       "<table border=\"1\" class=\"dataframe\">\n",
       "  <thead>\n",
       "    <tr style=\"text-align: right;\">\n",
       "      <th></th>\n",
       "      <th>Product</th>\n",
       "      <th>Type</th>\n",
       "      <th>RetailUnit</th>\n",
       "      <th>Comment</th>\n",
       "      <th>kcalPerRetailUnit</th>\n",
       "      <th>gProteinPerRetailUnit</th>\n",
       "      <th>gFatPerRetailUnit</th>\n",
       "      <th>gCarbPerRetailUnit</th>\n",
       "    </tr>\n",
       "  </thead>\n",
       "  <tbody>\n",
       "    <tr>\n",
       "      <th>0</th>\n",
       "      <td>Wheat &amp; Rye (Bread)</td>\n",
       "      <td>CarbSource</td>\n",
       "      <td>kg</td>\n",
       "      <td>1 kg</td>\n",
       "      <td>2490.0</td>\n",
       "      <td>82.0</td>\n",
       "      <td>12.0</td>\n",
       "      <td>514.10</td>\n",
       "    </tr>\n",
       "    <tr>\n",
       "      <th>1</th>\n",
       "      <td>Maize (Meal)</td>\n",
       "      <td>CarbSource</td>\n",
       "      <td>kg</td>\n",
       "      <td>1 kg of meal (for polenta)</td>\n",
       "      <td>3630.0</td>\n",
       "      <td>84.0</td>\n",
       "      <td>12.0</td>\n",
       "      <td>797.10</td>\n",
       "    </tr>\n",
       "    <tr>\n",
       "      <th>2</th>\n",
       "      <td>Barley (Beer)</td>\n",
       "      <td>Extra</td>\n",
       "      <td>L</td>\n",
       "      <td>1 liter of beer</td>\n",
       "      <td>499.8</td>\n",
       "      <td>5.1</td>\n",
       "      <td>0.0</td>\n",
       "      <td>119.85</td>\n",
       "    </tr>\n",
       "    <tr>\n",
       "      <th>3</th>\n",
       "      <td>Oatmeal</td>\n",
       "      <td>CarbSource</td>\n",
       "      <td>kg</td>\n",
       "      <td>1 kg of rolled oats</td>\n",
       "      <td>3840.0</td>\n",
       "      <td>160.0</td>\n",
       "      <td>63.0</td>\n",
       "      <td>661.40</td>\n",
       "    </tr>\n",
       "    <tr>\n",
       "      <th>4</th>\n",
       "      <td>Rice</td>\n",
       "      <td>CarbSource</td>\n",
       "      <td>kg</td>\n",
       "      <td>1 kg of full grain white or brown rice (dry)</td>\n",
       "      <td>3600.0</td>\n",
       "      <td>67.0</td>\n",
       "      <td>7.0</td>\n",
       "      <td>817.60</td>\n",
       "    </tr>\n",
       "  </tbody>\n",
       "</table>\n",
       "</div>"
      ],
      "text/plain": [
       "               Product        Type RetailUnit  \\\n",
       "0  Wheat & Rye (Bread)  CarbSource         kg   \n",
       "1         Maize (Meal)  CarbSource         kg   \n",
       "2        Barley (Beer)       Extra          L   \n",
       "3              Oatmeal  CarbSource         kg   \n",
       "4                 Rice  CarbSource         kg   \n",
       "\n",
       "                                         Comment  kcalPerRetailUnit  \\\n",
       "0                                           1 kg             2490.0   \n",
       "1                     1 kg of meal (for polenta)             3630.0   \n",
       "2                               1 liter of beer               499.8   \n",
       "3                            1 kg of rolled oats             3840.0   \n",
       "4  1 kg of full grain white or brown rice (dry)              3600.0   \n",
       "\n",
       "   gProteinPerRetailUnit  gFatPerRetailUnit  gCarbPerRetailUnit  \n",
       "0                   82.0               12.0              514.10  \n",
       "1                   84.0               12.0              797.10  \n",
       "2                    5.1                0.0              119.85  \n",
       "3                  160.0               63.0              661.40  \n",
       "4                   67.0                7.0              817.60  "
      ]
     },
     "execution_count": 61,
     "metadata": {},
     "output_type": "execute_result"
    }
   ],
   "source": [
    "df = pd.read_excel(\"4-TableS1_augmented_with_FAO_data.xlsx\").dropna()\n",
    "df.head()"
   ]
  },
  {
   "cell_type": "code",
   "execution_count": 62,
   "metadata": {},
   "outputs": [],
   "source": [
    "# Calculate needs for a person\n",
    "will = Person(\"male\", 62, 173, 22, '2')\n",
    "cal_needed_per_day = will.calculate_needs()\n",
    "cal_for_lunch = cal_needed_per_day * 0.4\n",
    "cal_for_diner = cal_needed_per_day * 0.3"
   ]
  },
  {
   "cell_type": "code",
   "execution_count": 63,
   "metadata": {},
   "outputs": [],
   "source": [
    "types = df['Type'].unique()\n",
    "types_weight = {'Vegetable': 0.1, 'Fruit': 0.075, 'CarbSource': 0.50, 'ProteinSource': 0.2, 'FatSource': 0.10, 'Extra': 0.025}"
   ]
  },
  {
   "cell_type": "code",
   "execution_count": 64,
   "metadata": {},
   "outputs": [],
   "source": [
    "def generate_meal(cal):\n",
    "    meal = dict(zip(types, ('', '')))\n",
    "    for type in types:\n",
    "        random_food = df[df['Type'] == type][['Product', 'kcalPerRetailUnit', 'RetailUnit']].sample(1).values\n",
    "        meal[type] = (random_food[0][0], f\"{cal * types_weight[type] / random_food[0][1]} {random_food[0][2]}\")\n",
    "    \n",
    "    return meal"
   ]
  },
  {
   "cell_type": "code",
   "execution_count": 65,
   "metadata": {},
   "outputs": [
    {
     "name": "stdout",
     "output_type": "stream",
     "text": [
      "REPAS POUR 7 JOURS\n",
      "\n",
      "\n",
      "\n",
      "Jour 1\n",
      "===============\n",
      "Déjeuner {'CarbSource': ('Wheat & Rye (Bread)', '0.19231927710843374 kg'), 'Extra': ('Wine', '0.035211397058823535 L'), 'ProteinSource': ('Cheese', '0.049496124031007754 kg'), 'FatSource': ('Sunflower Oil', '0.01182991600790514 L'), 'Vegetable': ('Onions & Leeks', '0.25885135135135134 kg'), 'Fruit': ('Berries & Grapes', '0.13553066037735848 kg')}\n",
      "Dinner {'CarbSource': ('Wheat & Rye (Bread)', '0.1442394578313253 kg'), 'Extra': ('Wine', '0.026408547794117648 L'), 'ProteinSource': ('Poultry Meat', '0.1177561475409836 kg'), 'FatSource': ('Palm Oil', '0.008872437005928853 L'), 'Vegetable': ('Tomatoes', '0.42253676470588236 kg'), 'Fruit': ('Bananas', '0.0897890625 kg')}\n",
      "\n",
      "\n",
      "\n",
      "Jour 2\n",
      "===============\n",
      "Déjeuner {'CarbSource': ('Potatoes', '0.7147388059701493 kg'), 'Extra': ('Cane Sugar', '0.006187015503875969 kg'), 'ProteinSource': ('Crustaceans (farmed)', '0.4115828881019833 kg'), 'FatSource': ('Rapeseed Oil', '0.01182991600790514 L'), 'Vegetable': ('Tomatoes', '0.5633823529411766 kg'), 'Fruit': ('Other Fruit', '0.159625 kg')}\n",
      "Dinner {'CarbSource': ('Oatmeal', '0.0935302734375 kg'), 'Extra': ('Dark Chocolate', '0.004569417938931297 kg'), 'ProteinSource': ('Crustaceans (farmed)', '0.30868716607648744 kg'), 'FatSource': ('Soybean Oil', '0.008872437005928853 L'), 'Vegetable': ('Brassicas', '0.37805921052631575 kg'), 'Fruit': ('Apples', '0.112236328125 kg')}\n",
      "\n",
      "\n",
      "\n",
      "Jour 3\n",
      "===============\n",
      "Déjeuner {'CarbSource': ('Potatoes', '0.7147388059701493 kg'), 'Extra': ('Dark Chocolate', '0.006092557251908397 kg'), 'ProteinSource': ('Eggs', '0.1175153374233129 kg'), 'FatSource': ('Olive Oil', '0.01182991600790514 L'), 'Vegetable': ('Tomatoes', '0.5633823529411766 kg'), 'Fruit': ('Apples', '0.14964843749999998 kg')}\n",
      "Dinner {'CarbSource': ('Oatmeal', '0.0935302734375 kg'), 'Extra': ('Beet Sugar', '0.004640261627906977 kg'), 'ProteinSource': ('Eggs', '0.08813650306748466 kg'), 'FatSource': ('Olive Oil', '0.008872437005928853 L'), 'Vegetable': ('Tomatoes', '0.42253676470588236 kg'), 'Fruit': ('Berries & Grapes', '0.10164799528301888 kg')}\n",
      "\n",
      "\n",
      "\n",
      "Jour 4\n",
      "===============\n",
      "Déjeuner {'CarbSource': ('Wheat & Rye (Bread)', '0.19231927710843374 kg'), 'Extra': ('Wine', '0.035211397058823535 L'), 'ProteinSource': ('Fish (farmed)', '0.2816911764705883 kg'), 'FatSource': ('Rapeseed Oil', '0.01182991600790514 L'), 'Vegetable': ('Other Vegetables', '0.4353409090909091 kg'), 'Fruit': ('Apples', '0.14964843749999998 kg')}\n",
      "Dinner {'CarbSource': ('Rice', '0.099765625 kg'), 'Extra': ('Barley (Beer)', '0.03592999699879952 L'), 'ProteinSource': ('Soymilk', '0.2582928802588996 L'), 'FatSource': ('Soybean Oil', '0.008872437005928853 L'), 'Vegetable': ('Tomatoes', '0.42253676470588236 kg'), 'Fruit': ('Bananas', '0.0897890625 kg')}\n",
      "\n",
      "\n",
      "\n",
      "Jour 5\n",
      "===============\n",
      "Déjeuner {'CarbSource': ('Wheat & Rye (Bread)', '0.19231927710843374 kg'), 'Extra': ('Beet Sugar', '0.006187015503875969 kg'), 'ProteinSource': ('Tofu', '0.25039215686274513 kg'), 'FatSource': ('Soybean Oil', '0.01182991600790514 L'), 'Vegetable': ('Onions & Leeks', '0.25885135135135134 kg'), 'Fruit': ('Bananas', '0.11971875 kg')}\n",
      "Dinner {'CarbSource': ('Cassava', '0.32950114678899084 kg'), 'Extra': ('Cane Sugar', '0.004640261627906977 kg'), 'ProteinSource': ('Pig Meat', '0.04406825153374233 kg'), 'FatSource': ('Rapeseed Oil', '0.008872437005928853 L'), 'Vegetable': ('Root Vegetables', '0.18902960526315787 kg'), 'Fruit': ('Citrus Fruit', '0.20720552884615384 kg')}\n",
      "\n",
      "\n",
      "\n",
      "Jour 6\n",
      "===============\n",
      "Déjeuner {'CarbSource': ('Rice', '0.13302083333333334 kg'), 'Extra': ('Dark Chocolate', '0.006092557251908397 kg'), 'ProteinSource': ('Bovine Meat (beef herd)', '0.1277 kg'), 'FatSource': ('Rapeseed Oil', '0.01182991600790514 L'), 'Vegetable': ('Brassicas', '0.5040789473684211 kg'), 'Fruit': ('Other Fruit', '0.159625 kg')}\n",
      "Dinner {'CarbSource': ('Oatmeal', '0.0935302734375 kg'), 'Extra': ('Beet Sugar', '0.004640261627906977 kg'), 'ProteinSource': ('Milk', '0.2286527136718128 L'), 'FatSource': ('Olive Oil', '0.008872437005928853 L'), 'Vegetable': ('Onions & Leeks', '0.1941385135135135 kg'), 'Fruit': ('Bananas', '0.0897890625 kg')}\n",
      "\n",
      "\n",
      "\n",
      "Jour 7\n",
      "===============\n",
      "Déjeuner {'CarbSource': ('Rice', '0.13302083333333334 kg'), 'Extra': ('Dark Chocolate', '0.006092557251908397 kg'), 'ProteinSource': ('Nuts', '0.031146341463414638 kg'), 'FatSource': ('Palm Oil', '0.01182991600790514 L'), 'Vegetable': ('Brassicas', '0.5040789473684211 kg'), 'Fruit': ('Apples', '0.14964843749999998 kg')}\n",
      "Dinner {'CarbSource': ('Potatoes', '0.5360541044776119 kg'), 'Extra': ('Cane Sugar', '0.004640261627906977 kg'), 'ProteinSource': ('Pig Meat', '0.04406825153374233 kg'), 'FatSource': ('Olive Oil', '0.008872437005928853 L'), 'Vegetable': ('Root Vegetables', '0.18902960526315787 kg'), 'Fruit': ('Bananas', '0.0897890625 kg')}\n",
      "\n",
      "\n",
      "\n"
     ]
    }
   ],
   "source": [
    "print(\"REPAS POUR 7 JOURS\")\n",
    "print(\"\\n\\n\")\n",
    "for i in range(7):\n",
    "    print(f\"Jour {i+1}\")\n",
    "    print(\"===============\")\n",
    "    print(f\"Déjeuner {generate_meal(cal_for_lunch)}\")\n",
    "    print(f\"Dinner {generate_meal(cal_for_diner)}\")\n",
    "    print(\"\\n\\n\")"
   ]
  },
  {
   "cell_type": "code",
   "execution_count": null,
   "metadata": {},
   "outputs": [],
   "source": []
  },
  {
   "cell_type": "code",
   "execution_count": null,
   "metadata": {},
   "outputs": [],
   "source": []
  },
  {
   "cell_type": "code",
   "execution_count": null,
   "metadata": {},
   "outputs": [],
   "source": []
  }
 ],
 "metadata": {
  "kernelspec": {
   "display_name": "tp_info",
   "language": "python",
   "name": "python3"
  },
  "language_info": {
   "codemirror_mode": {
    "name": "ipython",
    "version": 3
   },
   "file_extension": ".py",
   "mimetype": "text/x-python",
   "name": "python",
   "nbconvert_exporter": "python",
   "pygments_lexer": "ipython3",
   "version": "3.10.15"
  }
 },
 "nbformat": 4,
 "nbformat_minor": 2
}
