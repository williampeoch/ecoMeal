{
 "cells": [
  {
   "cell_type": "code",
   "execution_count": 124,
   "metadata": {},
   "outputs": [],
   "source": [
    "import pandas as pd"
   ]
  },
  {
   "cell_type": "code",
   "execution_count": 126,
   "metadata": {},
   "outputs": [
    {
     "data": {
      "text/html": [
       "<div>\n",
       "<style scoped>\n",
       "    .dataframe tbody tr th:only-of-type {\n",
       "        vertical-align: middle;\n",
       "    }\n",
       "\n",
       "    .dataframe tbody tr th {\n",
       "        vertical-align: top;\n",
       "    }\n",
       "\n",
       "    .dataframe thead th {\n",
       "        text-align: right;\n",
       "    }\n",
       "</style>\n",
       "<table border=\"1\" class=\"dataframe\">\n",
       "  <thead>\n",
       "    <tr style=\"text-align: right;\">\n",
       "      <th></th>\n",
       "      <th>Product</th>\n",
       "      <th>Type</th>\n",
       "      <th>RetailUnit</th>\n",
       "      <th>Comment</th>\n",
       "      <th>kcalPerRetailUnit</th>\n",
       "      <th>gProteinPerRetailUnit</th>\n",
       "      <th>gFatPerRetailUnit</th>\n",
       "      <th>gCarbPerRetailUnit</th>\n",
       "    </tr>\n",
       "  </thead>\n",
       "  <tbody>\n",
       "    <tr>\n",
       "      <th>0</th>\n",
       "      <td>Wheat &amp; Rye (Bread)</td>\n",
       "      <td>CarbSource</td>\n",
       "      <td>kg</td>\n",
       "      <td>1 kg</td>\n",
       "      <td>2490.0</td>\n",
       "      <td>82.0</td>\n",
       "      <td>12.0</td>\n",
       "      <td>514.10</td>\n",
       "    </tr>\n",
       "    <tr>\n",
       "      <th>1</th>\n",
       "      <td>Maize (Meal)</td>\n",
       "      <td>CarbSource</td>\n",
       "      <td>kg</td>\n",
       "      <td>1 kg of meal (for polenta)</td>\n",
       "      <td>3630.0</td>\n",
       "      <td>84.0</td>\n",
       "      <td>12.0</td>\n",
       "      <td>797.10</td>\n",
       "    </tr>\n",
       "    <tr>\n",
       "      <th>2</th>\n",
       "      <td>Barley (Beer)</td>\n",
       "      <td>Extra</td>\n",
       "      <td>L</td>\n",
       "      <td>1 liter of beer</td>\n",
       "      <td>499.8</td>\n",
       "      <td>5.1</td>\n",
       "      <td>0.0</td>\n",
       "      <td>119.85</td>\n",
       "    </tr>\n",
       "    <tr>\n",
       "      <th>3</th>\n",
       "      <td>Oatmeal</td>\n",
       "      <td>CarbSource</td>\n",
       "      <td>kg</td>\n",
       "      <td>1 kg of rolled oats</td>\n",
       "      <td>3840.0</td>\n",
       "      <td>160.0</td>\n",
       "      <td>63.0</td>\n",
       "      <td>661.40</td>\n",
       "    </tr>\n",
       "    <tr>\n",
       "      <th>4</th>\n",
       "      <td>Rice</td>\n",
       "      <td>CarbSource</td>\n",
       "      <td>kg</td>\n",
       "      <td>1 kg of full grain white or brown rice (dry)</td>\n",
       "      <td>3600.0</td>\n",
       "      <td>67.0</td>\n",
       "      <td>7.0</td>\n",
       "      <td>817.60</td>\n",
       "    </tr>\n",
       "  </tbody>\n",
       "</table>\n",
       "</div>"
      ],
      "text/plain": [
       "               Product        Type RetailUnit  \\\n",
       "0  Wheat & Rye (Bread)  CarbSource         kg   \n",
       "1         Maize (Meal)  CarbSource         kg   \n",
       "2        Barley (Beer)       Extra          L   \n",
       "3              Oatmeal  CarbSource         kg   \n",
       "4                 Rice  CarbSource         kg   \n",
       "\n",
       "                                         Comment  kcalPerRetailUnit  \\\n",
       "0                                           1 kg             2490.0   \n",
       "1                     1 kg of meal (for polenta)             3630.0   \n",
       "2                               1 liter of beer               499.8   \n",
       "3                            1 kg of rolled oats             3840.0   \n",
       "4  1 kg of full grain white or brown rice (dry)              3600.0   \n",
       "\n",
       "   gProteinPerRetailUnit  gFatPerRetailUnit  gCarbPerRetailUnit  \n",
       "0                   82.0               12.0              514.10  \n",
       "1                   84.0               12.0              797.10  \n",
       "2                    5.1                0.0              119.85  \n",
       "3                  160.0               63.0              661.40  \n",
       "4                   67.0                7.0              817.60  "
      ]
     },
     "execution_count": 126,
     "metadata": {},
     "output_type": "execute_result"
    }
   ],
   "source": [
    "df = pd.read_excel(\"4-TableS1_augmented_with_FAO_data.xlsx\").dropna()\n",
    "df.head()"
   ]
  },
  {
   "cell_type": "code",
   "execution_count": 134,
   "metadata": {},
   "outputs": [],
   "source": [
    "types = df['Type'].unique()\n",
    "types_weight = {'Vegetable': 0.4, 'Fruit': 0.1, 'CarbSource': 0.2, 'ProteinSource': 0.2, 'FatSource': 0.05, 'Extra': 0.05}"
   ]
  },
  {
   "cell_type": "code",
   "execution_count": 141,
   "metadata": {},
   "outputs": [],
   "source": [
    "def generate_meal(cal):\n",
    "    meal = dict(zip(types, ('', '')))\n",
    "    for type in types:\n",
    "        random_food = df[df['Type'] == type][['Product', 'kcalPerRetailUnit', 'RetailUnit']].sample(1).values\n",
    "        meal[type] = (random_food[0][0], f\"{cal * types_weight[type] / random_food[0][1]} {random_food[0][2]}\")\n",
    "    \n",
    "    return meal"
   ]
  },
  {
   "cell_type": "code",
   "execution_count": 175,
   "metadata": {},
   "outputs": [
    {
     "data": {
      "text/plain": [
       "{'CarbSource': ('Rice', '0.035555555555555556 kg'),\n",
       " 'Extra': ('Dark Chocolate', '0.008142493638676845 kg'),\n",
       " 'ProteinSource': ('Tofu', '0.16732026143790849 kg'),\n",
       " 'FatSource': ('Palm Oil', '0.003952569169960474 L'),\n",
       " 'Vegetable': ('Root Vegetables', '0.6736842105263158 kg'),\n",
       " 'Fruit': ('Apples', '0.13333333333333333 kg')}"
      ]
     },
     "execution_count": 175,
     "metadata": {},
     "output_type": "execute_result"
    }
   ],
   "source": [
    "generate_meal(640)"
   ]
  }
 ],
 "metadata": {
  "kernelspec": {
   "display_name": "tp_info",
   "language": "python",
   "name": "python3"
  },
  "language_info": {
   "codemirror_mode": {
    "name": "ipython",
    "version": 3
   },
   "file_extension": ".py",
   "mimetype": "text/x-python",
   "name": "python",
   "nbconvert_exporter": "python",
   "pygments_lexer": "ipython3",
   "version": "3.10.15"
  }
 },
 "nbformat": 4,
 "nbformat_minor": 2
}
